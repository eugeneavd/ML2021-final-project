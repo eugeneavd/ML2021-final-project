{
 "cells": [
  {
   "cell_type": "code",
   "execution_count": 3,
   "metadata": {},
   "outputs": [],
   "source": [
    "import pandas as pd\n",
    "import numpy as np\n",
    "from collections import defaultdict"
   ]
  },
  {
   "cell_type": "code",
   "execution_count": 4,
   "metadata": {},
   "outputs": [],
   "source": [
    "def x5_coding(x):\n",
    "    return int(str(x['treatment_flg'])+str(x['target']), 2)\n",
    "\n",
    "def x5_preprocessing(df_clients, df_train):\n",
    "    df_clients['first_issue_unixtime'] = pd.to_datetime(df_clients['first_issue_date']).astype(int)/10**9\n",
    "    df_clients['first_redeem_unixtime'] = pd.to_datetime(df_clients['first_redeem_date']).astype(int)/10**9\n",
    "    df_features = pd.DataFrame({\n",
    "    'gender_M': (df_clients['gender'] == 'M').astype(int),\n",
    "    'gender_F': (df_clients['gender'] == 'F').astype(int),\n",
    "    'gender_U': (df_clients['gender'] == 'U').astype(int),\n",
    "    'age': df_clients['age'],\n",
    "    'first_issue_time': df_clients['first_issue_unixtime'],\n",
    "    'first_redeem_time': df_clients['first_redeem_unixtime'],\n",
    "    'issue_redeem_delay': df_clients['first_redeem_unixtime'] - df_clients['first_issue_unixtime'],\n",
    "    }).fillna(0)\n",
    "    df_train['coding'] = df_train.apply(x5_coding, axis=1)\n",
    "    w = df_train['treatment_flg']\n",
    "    y = df_train['target']\n",
    "    c = df_train['coding']\n",
    "    return df_features, w, y, c"
   ]
  },
  {
   "cell_type": "code",
   "execution_count": 5,
   "metadata": {},
   "outputs": [],
   "source": [
    "df_clients = pd.read_csv('retailhero-uplift/data/clients.csv', index_col='client_id')\n",
    "df_train = pd.read_csv('retailhero-uplift/data/uplift_train.csv', index_col='client_id')\n",
    "df_features, w, y, c = x5_preprocessing(df_clients, df_train)"
   ]
  },
  {
   "cell_type": "code",
   "execution_count": 6,
   "metadata": {},
   "outputs": [],
   "source": [
    "from sklearn.model_selection import StratifiedKFold\n",
    "from sklearn.model_selection import train_test_split"
   ]
  },
  {
   "cell_type": "code",
   "execution_count": 7,
   "metadata": {},
   "outputs": [],
   "source": [
    "indices_learn, indices_valid = train_test_split(df_train.index, test_size=0.3, random_state=1)"
   ]
  },
  {
   "cell_type": "code",
   "execution_count": 8,
   "metadata": {},
   "outputs": [],
   "source": [
    "X_train, w_train, y_train, c_train = df_features.loc[indices_learn], w.loc[indices_learn], y.loc[indices_learn], c.loc[indices_learn]\n",
    "X_valid, w_valid, y_valid, c_valid = df_features.loc[indices_valid], w.loc[indices_valid], y.loc[indices_valid], c.loc[indices_valid]"
   ]
  },
  {
   "cell_type": "code",
   "execution_count": 9,
   "metadata": {},
   "outputs": [],
   "source": [
    "from tree import UpliftTree, RandomForestUplift"
   ]
  },
  {
   "cell_type": "code",
   "execution_count": 16,
   "metadata": {},
   "outputs": [],
   "source": [
    "dt = UpliftTree(max_depth=6, scoring='Chi', min_samples_leaf=100, min_samples_treatment=10, n_rand_features=5)\n",
    "dt.fit(X_train.copy(), y_train, w_train)\n",
    "class_, prob = dt.predict(X_valid)"
   ]
  },
  {
   "cell_type": "code",
   "execution_count": 17,
   "metadata": {},
   "outputs": [
    {
     "name": "stdout",
     "output_type": "stream",
     "text": [
      "Tree:  0.0020343181789145067 0.002890334215699216 0.038157984223109315\n"
     ]
    }
   ],
   "source": [
    "from sklift.metrics import (\n",
    "    uplift_at_k, uplift_auc_score, qini_auc_score, weighted_average_uplift\n",
    ")\n",
    "# Area Under Qini Curve\n",
    "tm_qini_auc = qini_auc_score(y_true=y_valid, uplift=class_, treatment=w_valid)\n",
    "\n",
    "# Area Under Uplift Curve\n",
    "tm_uplift_auc = uplift_auc_score(y_true=y_valid, uplift=class_, treatment=w_valid)\n",
    "\n",
    "# Weighted average uplift\n",
    "tm_wau = weighted_average_uplift(y_true=y_valid, uplift=class_,  treatment=w_valid)\n",
    "\n",
    "print(\"Tree: \", tm_qini_auc, tm_uplift_auc, tm_wau)"
   ]
  },
  {
   "cell_type": "code",
   "execution_count": null,
   "metadata": {},
   "outputs": [],
   "source": [
    "rf = RandomForestUplift(n_estimators=50, max_depth=7, scoring='Chi', min_samples_leaf=100, min_samples_treatment=10, n_rand_features=5)\n",
    "rf.fit(X_train.copy(), y_train, w_train)\n",
    "class_, prob = rf.predict(X_valid)"
   ]
  },
  {
   "cell_type": "code",
   "execution_count": 19,
   "metadata": {},
   "outputs": [
    {
     "name": "stdout",
     "output_type": "stream",
     "text": [
      "Random Forest:  -2.9874850489606508e-05 -4.39421786274905e-05 0.03798943157875096\n"
     ]
    }
   ],
   "source": [
    "from sklift.metrics import (\n",
    "    uplift_at_k, uplift_auc_score, qini_auc_score, weighted_average_uplift\n",
    ")\n",
    "# Area Under Qini Curve\n",
    "tm_qini_auc = qini_auc_score(y_true=y_valid, uplift=class_, treatment=w_valid)\n",
    "\n",
    "# Area Under Uplift Curve\n",
    "tm_uplift_auc = uplift_auc_score(y_true=y_valid, uplift=class_, treatment=w_valid)\n",
    "\n",
    "# Weighted average uplift\n",
    "tm_wau = weighted_average_uplift(y_true=y_valid, uplift=class_,  treatment=w_valid)\n",
    "\n",
    "print(\"Random Forest: \", tm_qini_auc, tm_uplift_auc, tm_wau)"
   ]
  },
  {
   "cell_type": "code",
   "execution_count": null,
   "metadata": {},
   "outputs": [],
   "source": []
  }
 ],
 "metadata": {
  "kernelspec": {
   "display_name": "Python 3",
   "language": "python",
   "name": "python3"
  },
  "language_info": {
   "codemirror_mode": {
    "name": "ipython",
    "version": 3
   },
   "file_extension": ".py",
   "mimetype": "text/x-python",
   "name": "python",
   "nbconvert_exporter": "python",
   "pygments_lexer": "ipython3",
   "version": "3.7.4"
  }
 },
 "nbformat": 4,
 "nbformat_minor": 2
}
